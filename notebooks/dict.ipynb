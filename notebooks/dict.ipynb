{
 "cells": [
  {
   "cell_type": "markdown",
   "metadata": {},
   "source": [
    "## dict 型オブジェクトの生成"
   ]
  },
  {
   "cell_type": "code",
   "execution_count": 4,
   "metadata": {
    "ExecuteTime": {
     "end_time": "2020-12-04T15:22:57.347879Z",
     "start_time": "2020-12-04T15:22:57.339477Z"
    }
   },
   "outputs": [
    {
     "data": {
      "text/plain": [
       "(dict, {})"
      ]
     },
     "execution_count": 4,
     "metadata": {},
     "output_type": "execute_result"
    }
   ],
   "source": [
    "d = {}\n",
    "type(d), d"
   ]
  },
  {
   "cell_type": "code",
   "execution_count": 6,
   "metadata": {
    "ExecuteTime": {
     "end_time": "2020-12-04T15:26:15.728878Z",
     "start_time": "2020-12-04T15:26:15.723212Z"
    }
   },
   "outputs": [
    {
     "data": {
      "text/plain": [
       "(dict, {'oxygen': 8, 'natrium': 11})"
      ]
     },
     "execution_count": 6,
     "metadata": {},
     "output_type": "execute_result"
    }
   ],
   "source": [
    "periodic = {\"oxygen\": 8, \"natrium\": 11}\n",
    "type(periodic), periodic"
   ]
  },
  {
   "cell_type": "code",
   "execution_count": 7,
   "metadata": {
    "ExecuteTime": {
     "end_time": "2020-12-04T15:27:04.743837Z",
     "start_time": "2020-12-04T15:27:04.738026Z"
    }
   },
   "outputs": [
    {
     "data": {
      "text/plain": [
       "(dict, {'oxygen': 8, 'natrium': 11})"
      ]
     },
     "execution_count": 7,
     "metadata": {},
     "output_type": "execute_result"
    }
   ],
   "source": [
    "periodic = {\n",
    "    \"oxygen\": 8,\n",
    "    \"natrium\": 11,\n",
    "}\n",
    "type(periodic), periodic"
   ]
  },
  {
   "cell_type": "markdown",
   "metadata": {},
   "source": [
    "## dict 型 の関数・操作"
   ]
  },
  {
   "cell_type": "code",
   "execution_count": 22,
   "metadata": {
    "ExecuteTime": {
     "end_time": "2020-12-04T15:35:15.567796Z",
     "start_time": "2020-12-04T15:35:15.561947Z"
    }
   },
   "outputs": [
    {
     "data": {
      "text/plain": [
       "{'oxygen': 8, 'natrium': 11}"
      ]
     },
     "execution_count": 22,
     "metadata": {},
     "output_type": "execute_result"
    }
   ],
   "source": [
    "periodic = {\n",
    "    \"oxygen\": 8,\n",
    "    \"natrium\": 11,\n",
    "}\n",
    "periodic"
   ]
  },
  {
   "cell_type": "code",
   "execution_count": 23,
   "metadata": {
    "ExecuteTime": {
     "end_time": "2020-12-04T15:35:16.573629Z",
     "start_time": "2020-12-04T15:35:16.565089Z"
    }
   },
   "outputs": [
    {
     "data": {
      "text/plain": [
       "2"
      ]
     },
     "execution_count": 23,
     "metadata": {},
     "output_type": "execute_result"
    }
   ],
   "source": [
    "# 要素数の取得\n",
    "len(periodic)"
   ]
  },
  {
   "cell_type": "code",
   "execution_count": 28,
   "metadata": {
    "ExecuteTime": {
     "end_time": "2020-12-04T15:36:13.570379Z",
     "start_time": "2020-12-04T15:36:13.565034Z"
    }
   },
   "outputs": [
    {
     "data": {
      "text/plain": [
       "(8, 8)"
      ]
     },
     "execution_count": 28,
     "metadata": {},
     "output_type": "execute_result"
    }
   ],
   "source": [
    "# キーに対応する値の取得\n",
    "periodic[\"oxygen\"], periodic.get(\"oxygen\")"
   ]
  },
  {
   "cell_type": "code",
   "execution_count": 26,
   "metadata": {
    "ExecuteTime": {
     "end_time": "2020-12-04T15:35:24.554931Z",
     "start_time": "2020-12-04T15:35:24.543990Z"
    }
   },
   "outputs": [
    {
     "ename": "KeyError",
     "evalue": "'hydrogen'",
     "output_type": "error",
     "traceback": [
      "\u001b[0;31m---------------------------------------------------------------------------\u001b[0m",
      "\u001b[0;31mKeyError\u001b[0m                                  Traceback (most recent call last)",
      "\u001b[0;32m<ipython-input-26-488897d8376b>\u001b[0m in \u001b[0;36m<module>\u001b[0;34m\u001b[0m\n\u001b[1;32m      1\u001b[0m \u001b[0;31m# キーに対応する値がない場合はエラー\u001b[0m\u001b[0;34m\u001b[0m\u001b[0;34m\u001b[0m\u001b[0;34m\u001b[0m\u001b[0m\n\u001b[0;32m----> 2\u001b[0;31m \u001b[0mperiodic\u001b[0m\u001b[0;34m[\u001b[0m\u001b[0;34m\"hydrogen\"\u001b[0m\u001b[0;34m]\u001b[0m\u001b[0;34m\u001b[0m\u001b[0;34m\u001b[0m\u001b[0m\n\u001b[0m",
      "\u001b[0;31mKeyError\u001b[0m: 'hydrogen'"
     ]
    }
   ],
   "source": [
    "# キーに対応する値がない場合はエラー\n",
    "periodic[\"hydrogen\"]"
   ]
  },
  {
   "cell_type": "code",
   "execution_count": 27,
   "metadata": {
    "ExecuteTime": {
     "end_time": "2020-12-04T15:35:57.732004Z",
     "start_time": "2020-12-04T15:35:57.726391Z"
    }
   },
   "outputs": [
    {
     "data": {
      "text/plain": [
       "(8, -1)"
      ]
     },
     "execution_count": 27,
     "metadata": {},
     "output_type": "execute_result"
    }
   ],
   "source": [
    "# キーに対応する値がない場合のデフォルト値を指定して取得\n",
    "periodic.get(\"oxygen\", -1), periodic.get(\"hydrogen\", -1)"
   ]
  },
  {
   "cell_type": "code",
   "execution_count": 31,
   "metadata": {
    "ExecuteTime": {
     "end_time": "2020-12-04T15:40:52.297793Z",
     "start_time": "2020-12-04T15:40:52.292033Z"
    }
   },
   "outputs": [
    {
     "data": {
      "text/plain": [
       "{'oxygen': -2, 'natrium': 11, 'hydrogen': 1, 'carbon': 6}"
      ]
     },
     "execution_count": 31,
     "metadata": {},
     "output_type": "execute_result"
    }
   ],
   "source": [
    "# キーに対応する値をセット、既にある値は上書き\n",
    "periodic[\"hydrogen\"] = 1\n",
    "periodic[\"oxygen\"] = -2\n",
    "periodic[\"carbon\"] = 6\n",
    "periodic"
   ]
  },
  {
   "cell_type": "code",
   "execution_count": 32,
   "metadata": {
    "ExecuteTime": {
     "end_time": "2020-12-04T15:42:31.842598Z",
     "start_time": "2020-12-04T15:42:31.836801Z"
    }
   },
   "outputs": [
    {
     "data": {
      "text/plain": [
       "(6, {'natrium': 11, 'hydrogen': 1})"
      ]
     },
     "execution_count": 32,
     "metadata": {},
     "output_type": "execute_result"
    }
   ],
   "source": [
    "# キーに対応する値を削除\n",
    "del periodic[\"oxygen\"]\n",
    "# キーに対応する値を取得かつ削除\n",
    "carbon = periodic.pop(\"carbon\")\n",
    "carbon, periodic"
   ]
  },
  {
   "cell_type": "code",
   "execution_count": 38,
   "metadata": {
    "ExecuteTime": {
     "end_time": "2020-12-04T15:48:45.113554Z",
     "start_time": "2020-12-04T15:48:45.108181Z"
    }
   },
   "outputs": [
    {
     "data": {
      "text/plain": [
       "{'natrium': 1111, 'hydrogen': 1, 'oxygen': 8}"
      ]
     },
     "execution_count": 38,
     "metadata": {},
     "output_type": "execute_result"
    }
   ],
   "source": [
    "# dict 型オブジェクトに dict 型オブジェクトをマージ\n",
    "# 同じキーがある場合は関数に渡させれるdictオブジェクトが優先\n",
    "# 3.9 からは \"|=\" 演算子が使える\n",
    "periodic_arg = {\"oxygen\": 8, \"natrium\": 1111}\n",
    "periodic.update(periodic_arg)\n",
    "periodic"
   ]
  },
  {
   "cell_type": "code",
   "execution_count": 39,
   "metadata": {
    "ExecuteTime": {
     "end_time": "2020-12-04T15:48:46.332003Z",
     "start_time": "2020-12-04T15:48:46.327174Z"
    }
   },
   "outputs": [
    {
     "data": {
      "text/plain": [
       "{'oxygen': 8, 'natrium': 1111}"
      ]
     },
     "execution_count": 39,
     "metadata": {},
     "output_type": "execute_result"
    }
   ],
   "source": [
    "# 関数に渡させれるdictオブジェクトには変化なし\n",
    "periodic_arg"
   ]
  },
  {
   "cell_type": "code",
   "execution_count": 41,
   "metadata": {
    "ExecuteTime": {
     "end_time": "2020-12-04T15:49:06.635640Z",
     "start_time": "2020-12-04T15:49:06.630012Z"
    }
   },
   "outputs": [
    {
     "data": {
      "text/plain": [
       "    []               in               <                <=               ==\n",
       "    !=               >                >=               dir()            hash()\n",
       "    help()           iter()           len()            repr()           str()\n",
       "    .clear()         .copy()          .fromkeys()      .get()\n",
       "    .items()         .keys()          .pop()           .popitem()\n",
       "    .setdefault()    .update()        .values()"
      ]
     },
     "execution_count": 41,
     "metadata": {},
     "output_type": "execute_result"
    }
   ],
   "source": [
    "# その他の関数\n",
    "from see import see\n",
    "see(periodic)"
   ]
  },
  {
   "cell_type": "markdown",
   "metadata": {},
   "source": [
    "## dict のマッピング型としての利用"
   ]
  },
  {
   "cell_type": "markdown",
   "metadata": {},
   "source": [
    "### [ ] による要素へのアクセス"
   ]
  },
  {
   "cell_type": "code",
   "execution_count": 42,
   "metadata": {
    "ExecuteTime": {
     "end_time": "2020-12-04T15:52:09.152946Z",
     "start_time": "2020-12-04T15:52:09.148032Z"
    }
   },
   "outputs": [],
   "source": [
    "# 上参照"
   ]
  },
  {
   "cell_type": "markdown",
   "metadata": {},
   "source": [
    "### for による要素へのアクセス"
   ]
  },
  {
   "cell_type": "code",
   "execution_count": 49,
   "metadata": {
    "ExecuteTime": {
     "end_time": "2020-12-04T15:55:57.261426Z",
     "start_time": "2020-12-04T15:55:57.255978Z"
    },
    "scrolled": true
   },
   "outputs": [
    {
     "name": "stdout",
     "output_type": "stream",
     "text": [
      "oxygen\n",
      "natrium\n"
     ]
    }
   ],
   "source": [
    "periodic = {\"oxygen\": 8, \"natrium\": 11}\n",
    "for k in periodic:\n",
    "    print(k)"
   ]
  },
  {
   "cell_type": "code",
   "execution_count": 51,
   "metadata": {
    "ExecuteTime": {
     "end_time": "2020-12-04T15:56:15.543368Z",
     "start_time": "2020-12-04T15:56:15.536065Z"
    }
   },
   "outputs": [
    {
     "name": "stdout",
     "output_type": "stream",
     "text": [
      "oxygen\n",
      "natrium\n"
     ]
    }
   ],
   "source": [
    "# キーを順に取得\n",
    "for k in periodic.keys():\n",
    "    print(k)"
   ]
  },
  {
   "cell_type": "code",
   "execution_count": 52,
   "metadata": {
    "ExecuteTime": {
     "end_time": "2020-12-04T15:56:49.751228Z",
     "start_time": "2020-12-04T15:56:49.745960Z"
    }
   },
   "outputs": [
    {
     "name": "stdout",
     "output_type": "stream",
     "text": [
      "8\n",
      "11\n"
     ]
    }
   ],
   "source": [
    "# 値を順に取得\n",
    "for v in periodic.values():\n",
    "    print(v)"
   ]
  },
  {
   "cell_type": "code",
   "execution_count": 53,
   "metadata": {
    "ExecuteTime": {
     "end_time": "2020-12-04T15:57:27.576519Z",
     "start_time": "2020-12-04T15:57:27.571426Z"
    }
   },
   "outputs": [
    {
     "name": "stdout",
     "output_type": "stream",
     "text": [
      "('oxygen', 8)\n",
      "('natrium', 11)\n"
     ]
    }
   ],
   "source": [
    "# キーと値を順に取得\n",
    "for item in periodic.items():\n",
    "    print(item)"
   ]
  },
  {
   "cell_type": "markdown",
   "metadata": {},
   "source": [
    "## dict のミュータブル性の確認"
   ]
  },
  {
   "cell_type": "code",
   "execution_count": 54,
   "metadata": {
    "ExecuteTime": {
     "end_time": "2020-12-04T16:01:01.927458Z",
     "start_time": "2020-12-04T16:01:01.921597Z"
    }
   },
   "outputs": [
    {
     "data": {
      "text/plain": [
       "{'oxygen': -1, 'natrium': 11}"
      ]
     },
     "execution_count": 54,
     "metadata": {},
     "output_type": "execute_result"
    }
   ],
   "source": [
    "periodic = {\"oxygen\": 8, \"natrium\": 11}\n",
    "periodic[\"oxygen\"] = -1\n",
    "periodic"
   ]
  }
 ],
 "metadata": {
  "kernelspec": {
   "display_name": "Python 3",
   "language": "python",
   "name": "python3"
  },
  "language_info": {
   "codemirror_mode": {
    "name": "ipython",
    "version": 3
   },
   "file_extension": ".py",
   "mimetype": "text/x-python",
   "name": "python",
   "nbconvert_exporter": "python",
   "pygments_lexer": "ipython3",
   "version": "3.7.6"
  },
  "toc": {
   "base_numbering": 1,
   "nav_menu": {},
   "number_sections": true,
   "sideBar": true,
   "skip_h1_title": false,
   "title_cell": "Table of Contents",
   "title_sidebar": "Contents",
   "toc_cell": false,
   "toc_position": {},
   "toc_section_display": true,
   "toc_window_display": false
  },
  "varInspector": {
   "cols": {
    "lenName": 16,
    "lenType": 16,
    "lenVar": 40
   },
   "kernels_config": {
    "python": {
     "delete_cmd_postfix": "",
     "delete_cmd_prefix": "del ",
     "library": "var_list.py",
     "varRefreshCmd": "print(var_dic_list())"
    },
    "r": {
     "delete_cmd_postfix": ") ",
     "delete_cmd_prefix": "rm(",
     "library": "var_list.r",
     "varRefreshCmd": "cat(var_dic_list()) "
    }
   },
   "types_to_exclude": [
    "module",
    "function",
    "builtin_function_or_method",
    "instance",
    "_Feature"
   ],
   "window_display": false
  }
 },
 "nbformat": 4,
 "nbformat_minor": 2
}
